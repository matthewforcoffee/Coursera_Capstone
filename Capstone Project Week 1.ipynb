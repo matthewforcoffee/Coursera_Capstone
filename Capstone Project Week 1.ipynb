{
 "cells": [
  {
   "cell_type": "markdown",
   "metadata": {
    "collapsed": true
   },
   "source": [
    "# This is my Capstone Project.\n",
    "\n",
    "\n",
    "## Week 1: Defining the problem and discussing the background\n",
    "\n",
    "### Part 1: A description of the problem and a discussion of the background. (15 marks)\n",
    "\n",
    "#### In Singapore, my client is looking to open a restaurant called 'Haidilao' and requests that i recommend a location for them to open in. The following are information regarding specifications of business my client is intending to run.\n",
    "\n",
    "    1. Chinese Establishment\n",
    "    2. High Level Pricing\n",
    "    3. Known brand franchise\n",
    "    4. Family oriented establishment\n",
    "\n",
    "#### As such, the following details are required in order to which is the ideal location for the new restaurant\n",
    "    \n",
    "    - Locations of current Haidilao franchises\n",
    "    - Population Density in each region\n",
    "    - Location of Competitor, Beauty in the Pot\n",
    "    - Must be in a shopping mall\n",
    "    \n",
    " Hence, there are several information required in order to determine the viable location."
   ]
  },
  {
   "cell_type": "markdown",
   "metadata": {},
   "source": [
    "### Part 2: A description of the data and how it will be used to solve the problem. (15 marks)\n",
    "\n",
    "#### Data requirements:\n",
    "The data about the districts in Singapore can be found from https://data.gov.sg/dataset/resident-population-by-planning-area-subzone-and-type-of-dwelling-2015?view_id=4f094c60-64ec-4b87-8e21-458fb90eab78&resource_id=5fe7f164-14d7-4dae-927c-46fe72b4822f. The districts information will be used to find population clusters in order to determine customer flow rates.\n",
    "\n",
    "The data of Haidilao franchises can be found using Foursquare. This will reduce competition for areas already populated with this franchise.\n",
    "\n",
    "The data of mall locations available for rent will be found using Foursquare.\n"
   ]
  },
  {
   "cell_type": "code",
   "execution_count": null,
   "metadata": {},
   "outputs": [],
   "source": []
  }
 ],
 "metadata": {
  "kernelspec": {
   "display_name": "Python 3.6",
   "language": "python",
   "name": "python3"
  },
  "language_info": {
   "codemirror_mode": {
    "name": "ipython",
    "version": 3
   },
   "file_extension": ".py",
   "mimetype": "text/x-python",
   "name": "python",
   "nbconvert_exporter": "python",
   "pygments_lexer": "ipython3",
   "version": "3.6.9"
  }
 },
 "nbformat": 4,
 "nbformat_minor": 1
}
