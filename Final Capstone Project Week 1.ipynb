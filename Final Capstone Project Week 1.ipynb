{
 "cells": [
  {
   "cell_type": "markdown",
   "metadata": {
    "collapsed": true
   },
   "source": [
    "# This is my Capstone Project.\n",
    "\n",
    "\n",
    "## Week 1: Defining the problem and discussing the background\n",
    "\n",
    "### Part 1: A description of the problem and a discussion of the background. (15 marks)\n",
    "\n",
    "#### In Singapore, my client is looking to open a restaurant called 'Haidilao' and requests that i recommend a location for them to open in. The following are information regarding specifications of business my client is intending to run.\n",
    "\n",
    "    1. Chinese Establishment\n",
    "    2. High Level Pricing\n",
    "    3. Known brand franchise\n",
    "    4. Family oriented establishment\n",
    "\n",
    "### Part 2: A description of the data and how it will be used to solve the problem. (15 marks)\n",
    "\n",
    "#### As such, the following details are required in order to which is the ideal location for the new restaurant\n",
    "    \n",
    "    - Locations of current Haidilao franchises\n",
    "    - Frequently visited areas by families\n",
    "    - Average income of Singaporeans by location\n",
    "\n",
    "#### Hence, there are several information required in order to determine the viable location.\n",
    "\n",
    "\n",
    "</n>\n",
    "\n",
    "Now let's first import the libraries required for this Capstone Project"
   ]
  },
  {
   "cell_type": "code",
   "execution_count": 2,
   "metadata": {},
   "outputs": [
    {
     "name": "stdout",
     "output_type": "stream",
     "text": [
      "Folium installed\n",
      "Libraries imported.\n"
     ]
    }
   ],
   "source": [
    "import requests # library to handle requests\n",
    "import pandas as pd # library for data analysis\n",
    "import numpy as np # library to handle data in a vectorized manner\n",
    "import random # library for random number generation\n",
    "\n",
    "#!conda install -c conda-forge geopy --yes \n",
    "from geopy.geocoders import Nominatim # module to convert an address into latitude and longitude values\n",
    "\n",
    "# libraries for displaying images\n",
    "from IPython.display import Image \n",
    "from IPython.core.display import HTML \n",
    "    \n",
    "# tranforming json file into a pandas dataframe library\n",
    "from pandas.io.json import json_normalize\n",
    "\n",
    "#!conda install -c conda-forge folium=0.5.0 --yes\n",
    "import folium # plotting library\n",
    "\n",
    "print('Folium installed')\n",
    "print('Libraries imported.')\n"
   ]
  },
  {
   "cell_type": "code",
   "execution_count": null,
   "metadata": {},
   "outputs": [],
   "source": []
  },
  {
   "cell_type": "code",
   "execution_count": null,
   "metadata": {},
   "outputs": [],
   "source": []
  },
  {
   "cell_type": "code",
   "execution_count": null,
   "metadata": {},
   "outputs": [],
   "source": []
  }
 ],
 "metadata": {
  "kernelspec": {
   "display_name": "Python 3.6",
   "language": "python",
   "name": "python3"
  },
  "language_info": {
   "codemirror_mode": {
    "name": "ipython",
    "version": 3
   },
   "file_extension": ".py",
   "mimetype": "text/x-python",
   "name": "python",
   "nbconvert_exporter": "python",
   "pygments_lexer": "ipython3",
   "version": "3.6.9"
  }
 },
 "nbformat": 4,
 "nbformat_minor": 1
}
